{
 "cells": [
  {
   "cell_type": "code",
   "execution_count": 4,
   "id": "69332be2",
   "metadata": {},
   "outputs": [
    {
     "name": "stdout",
     "output_type": "stream",
     "text": [
      "['He is a good boy', 'He is an awesome player', 'She is the best', 'These burger are really nice']\n",
      "['Food is the worst here', 'This pizza tastes awful']\n"
     ]
    }
   ],
   "source": [
    "pos=['good','awesome','best','nice']\n",
    "neg=['worst','awful']\n",
    "com=['He is a good boy','Food is the worst here','He is an awesome player','She is the best','This pizza tastes awful','These burger are really nice']\n",
    "\n",
    "p=[]\n",
    "n=[]\n",
    "for i in com:\n",
    "    words=i.split()\n",
    "    for j in words:\n",
    "        if j in pos:\n",
    "            p.append(i)\n",
    "        if j in neg:\n",
    "            n.append(i)\n",
    "print(p)      \n",
    "print(n)"
   ]
  },
  {
   "cell_type": "code",
   "execution_count": null,
   "id": "22fe4265",
   "metadata": {},
   "outputs": [],
   "source": []
  }
 ],
 "metadata": {
  "kernelspec": {
   "display_name": "Python 3 (ipykernel)",
   "language": "python",
   "name": "python3"
  },
  "language_info": {
   "codemirror_mode": {
    "name": "ipython",
    "version": 3
   },
   "file_extension": ".py",
   "mimetype": "text/x-python",
   "name": "python",
   "nbconvert_exporter": "python",
   "pygments_lexer": "ipython3",
   "version": "3.9.7"
  }
 },
 "nbformat": 4,
 "nbformat_minor": 5
}
