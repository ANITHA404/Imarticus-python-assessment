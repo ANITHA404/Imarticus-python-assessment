{
 "cells": [
  {
   "cell_type": "code",
   "execution_count": 2,
   "id": "1e406abb",
   "metadata": {},
   "outputs": [
    {
     "name": "stdout",
     "output_type": "stream",
     "text": [
      "[9, 13.0, 28.333333333333332, 86.5, 347.0]\n"
     ]
    }
   ],
   "source": [
    "a=[9,8,7,6,5]\n",
    "import itertools as it\n",
    "l=[]\n",
    "l=it.accumulate(list(enumerate(a)),lambda x,y:(y[0],x[1]*(x[0]+1)+y[1]/(y[0]+1)))\n",
    "print(list(map(lambda x:x[1],l)))"
   ]
  },
  {
   "cell_type": "code",
   "execution_count": null,
   "id": "0c400bf7",
   "metadata": {},
   "outputs": [],
   "source": []
  }
 ],
 "metadata": {
  "kernelspec": {
   "display_name": "Python 3 (ipykernel)",
   "language": "python",
   "name": "python3"
  },
  "language_info": {
   "codemirror_mode": {
    "name": "ipython",
    "version": 3
   },
   "file_extension": ".py",
   "mimetype": "text/x-python",
   "name": "python",
   "nbconvert_exporter": "python",
   "pygments_lexer": "ipython3",
   "version": "3.9.7"
  }
 },
 "nbformat": 4,
 "nbformat_minor": 5
}
