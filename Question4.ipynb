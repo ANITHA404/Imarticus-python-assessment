{
 "cells": [
  {
   "cell_type": "code",
   "execution_count": 5,
   "id": "98e3faca",
   "metadata": {},
   "outputs": [
    {
     "name": "stdout",
     "output_type": "stream",
     "text": [
      "['hOw', 'ARe']\n"
     ]
    }
   ],
   "source": [
    "li=['hello','Dear','hOw','ARe','You']\n",
    "x=[]\n",
    "for i in range(0,len(li)):\n",
    "    s=li[i]\n",
    "    if s[1].isupper():\n",
    "        x.append(s)\n",
    "print(x)        \n",
    "        "
   ]
  }
 ],
 "metadata": {
  "kernelspec": {
   "display_name": "Python 3 (ipykernel)",
   "language": "python",
   "name": "python3"
  },
  "language_info": {
   "codemirror_mode": {
    "name": "ipython",
    "version": 3
   },
   "file_extension": ".py",
   "mimetype": "text/x-python",
   "name": "python",
   "nbconvert_exporter": "python",
   "pygments_lexer": "ipython3",
   "version": "3.9.7"
  }
 },
 "nbformat": 4,
 "nbformat_minor": 5
}
